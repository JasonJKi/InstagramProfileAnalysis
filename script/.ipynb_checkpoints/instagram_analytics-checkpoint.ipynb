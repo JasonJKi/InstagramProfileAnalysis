{
 "cells": [
  {
   "cell_type": "code",
   "execution_count": 1,
   "metadata": {},
   "outputs": [],
   "source": [
    "%load_ext autoreload"
   ]
  },
  {
   "cell_type": "code",
   "execution_count": 2,
   "metadata": {},
   "outputs": [],
   "source": [
    "from InstaScraper import InstaScraper"
   ]
  },
  {
   "cell_type": "code",
   "execution_count": 3,
   "metadata": {},
   "outputs": [
    {
     "data": {
      "text/plain": [
       "{'User': '| 🎸🎵 (@jason.j.ki)',\n",
       " 'Followers': '830',\n",
       " 'Following': '315',\n",
       " 'Posts': '71'}"
      ]
     },
     "execution_count": 3,
     "metadata": {},
     "output_type": "execute_result"
    }
   ],
   "source": [
    "insta_scraper = InstaScraper()\n",
    "insta_scraper.getinfo('https://www.instagram.com/jason.j.ki/')"
   ]
  },
  {
   "cell_type": "code",
   "execution_count": null,
   "metadata": {},
   "outputs": [],
   "source": []
  },
  {
   "cell_type": "code",
   "execution_count": 11,
   "metadata": {},
   "outputs": [
    {
     "name": "stdout",
     "output_type": "stream",
     "text": [
      "Request return 429 error!\n",
      "{'message': 'Please wait a few minutes before you try again.', 'status': 'fail'}\n",
      "Request return 404 error!\n",
      "Login success!\n",
      "\n"
     ]
    }
   ],
   "source": [
    "from instagram_scraper import InstagramScraper\n",
    "from instagram_scraper import constants\n",
    "import argparse"
   ]
  },
  {
   "cell_type": "code",
   "execution_count": 12,
   "metadata": {},
   "outputs": [],
   "source": [
    "args = argparse.Namespace()\n",
    "args.username= [\"jason.j.ki\"]\n",
    "args.usernames = [\"jason.j.ki\"]\n",
    "args.followings_input = True\n",
    "scraper = InstagramScraper(**vars(args))\n",
    "scraper.login_user = \"jason.j.ki\"\n",
    "user = scraper.deep_get(scraper.get_shared_data(\"jason.j.ki\"), 'entry_data.ProfilePage[0].graphql.user')\n",
    "id = user['id']\n",
    "params = constants.QUERY_FOLLOWINGS_VARS.format(id, '')\n",
    "#resp = scraper.get_json(constants.QUERY_FOLLOWINGS.format(params))"
   ]
  },
  {
   "cell_type": "code",
   "execution_count": 13,
   "metadata": {},
   "outputs": [
    {
     "data": {
      "text/plain": [
       "'https://www.instagram.com/graphql/query/?query_hash=c56ee0ae1f89cdbd1c89e2bc6b8f3d18&variables={\"id\":\"1514696361\",\"first\":50,\"after\":\"\"}'"
      ]
     },
     "execution_count": 13,
     "metadata": {},
     "output_type": "execute_result"
    }
   ],
   "source": [
    "constants.QUERY_FOLLOWINGS.format(params)"
   ]
  },
  {
   "cell_type": "code",
   "execution_count": 14,
   "metadata": {},
   "outputs": [
    {
     "data": {
      "text/plain": [
       "True"
      ]
     },
     "execution_count": 14,
     "metadata": {},
     "output_type": "execute_result"
    }
   ],
   "source": [
    "from InstagramAPI import InstagramAPI\n",
    "api = InstagramAPI(\"jason.j.ki\", \"Cooljkkid1\")\n",
    "api.login()"
   ]
  },
  {
   "cell_type": "code",
   "execution_count": 20,
   "metadata": {},
   "outputs": [],
   "source": [
    "def getFollowers(api, user_id):\n",
    "    \"\"\"\n",
    "    Returns the list of followers of the user.\n",
    "    It should be equivalent of calling api.getTotalFollowers from InstagramAPI\n",
    "    \"\"\"\n",
    "\n",
    "    followers = []\n",
    "    next_max_id = True\n",
    "    while next_max_id:\n",
    "        # first iteration hack\n",
    "        if next_max_id is True:\n",
    "            next_max_id = ''\n",
    "\n",
    "        _ = api.getUserFollowings(user_id, maxid=next_max_id)\n",
    "        followers.extend(api.LastJson.get('users', []))\n",
    "        next_max_id = api.LastJson.get('next_max_id', '')\n",
    "    return followers\n",
    "\n",
    "def getFollowings(api, user_id):\n",
    "    \"\"\"\n",
    "    Returns the list of followers of the user.\n",
    "    It should be equivalent of calling api.getTotalFollowers from InstagramAPI\n",
    "    \"\"\"\n",
    "\n",
    "    followers = []\n",
    "    next_max_id = True\n",
    "    while next_max_id:\n",
    "        # first iteration hack\n",
    "        if next_max_id is True:\n",
    "            next_max_id = ''\n",
    "\n",
    "        _ = api.getUserFollowings(user_id, maxid=next_max_id)\n",
    "        followers.extend(api.LastJson.get('users', []))\n",
    "        next_max_id = api.LastJson.get('next_max_id', '')\n",
    "    return followers"
   ]
  },
  {
   "cell_type": "code",
   "execution_count": 23,
   "metadata": {},
   "outputs": [],
   "source": [
    "followers=getTotalFollowers(api, id)\n",
    "\n",
    "followings=getFollowings(api, id)"
   ]
  },
  {
   "cell_type": "code",
   "execution_count": 29,
   "metadata": {},
   "outputs": [
    {
     "data": {
      "text/plain": [
       "1467543131"
      ]
     },
     "execution_count": 29,
     "metadata": {},
     "output_type": "execute_result"
    }
   ],
   "source": [
    "followings[1]['pk']\n",
    "followings=getTotalFollowers(api, id)"
   ]
  },
  {
   "cell_type": "code",
   "execution_count": null,
   "metadata": {},
   "outputs": [],
   "source": [
    "len(unique_followers)"
   ]
  },
  {
   "cell_type": "code",
   "execution_count": null,
   "metadata": {},
   "outputs": [],
   "source": []
  }
 ],
 "metadata": {
  "kernelspec": {
   "display_name": "Python 3",
   "language": "python",
   "name": "python3"
  },
  "language_info": {
   "codemirror_mode": {
    "name": "ipython",
    "version": 3
   },
   "file_extension": ".py",
   "mimetype": "text/x-python",
   "name": "python",
   "nbconvert_exporter": "python",
   "pygments_lexer": "ipython3",
   "version": "3.6.8"
  }
 },
 "nbformat": 4,
 "nbformat_minor": 2
}
